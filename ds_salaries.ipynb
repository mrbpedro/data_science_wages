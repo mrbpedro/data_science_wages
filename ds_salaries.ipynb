{
 "cells": [
  {
   "cell_type": "markdown",
   "id": "32d120be-3bfe-4dc2-8f0b-c8a7bffe407b",
   "metadata": {},
   "source": [
    "# Data Science jop salaries: an exploratory analysis"
   ]
  },
  {
   "cell_type": "markdown",
   "id": "7e7c99db-660f-4587-8d6f-0fb0191ced07",
   "metadata": {},
   "source": [
    "I will conduct an exploratory analysis of a data set taken from <a href=\"https://www.kaggle.com/datasets/ruchi798/data-science-job-salaries\" title=\"Kaggle\"> Kaggle</a> on the data scientist salaries around the world. It includes the so-called data cleaning, data wrangling, data feature engineering and data visualization. "
   ]
  },
  {
   "cell_type": "code",
   "execution_count": 1,
   "id": "9e30e75f-4414-4eaf-8332-84e6ddd83fef",
   "metadata": {},
   "outputs": [],
   "source": [
    "#Let's load packpages\n",
    "import numpy as np\n",
    "import pandas as pd\n",
    "from scipy import stats\n",
    "import seaborn as sns\n",
    "import matplotlib as mat\n",
    "import matplotlib.pyplot as plt\n",
    "import country_converter as coco\n",
    "import scipy.stats as stats \n",
    "from scipy.stats import chi2_contingency\n",
    "from statsmodels.formula.api import ols\n",
    "from statsmodels.stats.anova import anova_lm "
   ]
  },
  {
   "cell_type": "code",
   "execution_count": 2,
   "id": "05f6c33d-d203-42ee-b207-aadfd12a13b1",
   "metadata": {},
   "outputs": [],
   "source": [
    "# Surpress warnings:\n",
    "def warn(*args, **kwargs):\n",
    "    pass\n",
    "import warnings\n",
    "warnings.warn = warn"
   ]
  },
  {
   "cell_type": "code",
   "execution_count": 3,
   "id": "7e9d190f-f4ac-43bd-b80b-ac35c120966a",
   "metadata": {},
   "outputs": [],
   "source": [
    "#changing scientific notation pattern\n",
    "pd.set_option('display.float_format', lambda x: '%.3f' % x)"
   ]
  },
  {
   "cell_type": "code",
   "execution_count": 5,
   "id": "1d33475f-fdcc-480a-98b6-9c9d8fff4a19",
   "metadata": {},
   "outputs": [],
   "source": [
    "#Loading dataset\n",
    "df = pd.read_csv('ds_salaries.csv')"
   ]
  },
  {
   "cell_type": "markdown",
   "id": "bd699e9e-4de1-4547-a6ad-d2d38fe29e33",
   "metadata": {},
   "source": [
    "# 1. Brief description of the data set and a summary of its attributes"
   ]
  },
  {
   "cell_type": "markdown",
   "id": "d36a0cf5-c01b-4d3e-ae7f-c962d7d1f0bf",
   "metadata": {},
   "source": [
    "## 1.1 Definition of Variables"
   ]
  },
  {
   "cell_type": "markdown",
   "id": "c1164685-2657-4a8f-948e-433b10720364",
   "metadata": {},
   "source": [
    "**Imagem Kaggle**"
   ]
  },
  {
   "cell_type": "markdown",
   "id": "32d35ad4-76cc-4a57-aeff-d1585ab58086",
   "metadata": {},
   "source": [
    "Let's assume I am preparing the data for a machine learning model, so that we are interested in identifying the predictors of wages in the Data Science field. Hence, salary would be our target variable, but as one can be noted there are two features on salaries. *salary* refers to the salaries in national currency, while *salary_in_usd* refers to salaries converted into US Dolars.\n",
    "\n",
    "Since data comprise wages across countries, it is suitable in terms of comparison using the variable converted into US currency, according to exchange rates of each country."
   ]
  },
  {
   "cell_type": "markdown",
   "id": "a15c328d-0e7c-47fd-b640-9db16c247699",
   "metadata": {},
   "source": [
    "## 1.2 General comments on the data"
   ]
  },
  {
   "cell_type": "markdown",
   "id": "b6e12540-bd90-4041-8c48-0b65b4473f5e",
   "metadata": {},
   "source": [
    "In order to explore general informations about the data set, I use the method `.info()` from the DataFrame class."
   ]
  },
  {
   "cell_type": "code",
   "execution_count": 6,
   "id": "08060561-d6c3-430c-ad52-a6393edd29e5",
   "metadata": {},
   "outputs": [
    {
     "name": "stdout",
     "output_type": "stream",
     "text": [
      "<class 'pandas.core.frame.DataFrame'>\n",
      "RangeIndex: 607 entries, 0 to 606\n",
      "Data columns (total 12 columns):\n",
      " #   Column              Non-Null Count  Dtype \n",
      "---  ------              --------------  ----- \n",
      " 0   Unnamed: 0          607 non-null    int64 \n",
      " 1   work_year           607 non-null    int64 \n",
      " 2   experience_level    607 non-null    object\n",
      " 3   employment_type     607 non-null    object\n",
      " 4   job_title           607 non-null    object\n",
      " 5   salary              607 non-null    int64 \n",
      " 6   salary_currency     607 non-null    object\n",
      " 7   salary_in_usd       607 non-null    int64 \n",
      " 8   employee_residence  607 non-null    object\n",
      " 9   remote_ratio        607 non-null    int64 \n",
      " 10  company_location    607 non-null    object\n",
      " 11  company_size        607 non-null    object\n",
      "dtypes: int64(5), object(7)\n",
      "memory usage: 57.0+ KB\n"
     ]
    }
   ],
   "source": [
    "df.info()"
   ]
  },
  {
   "cell_type": "markdown",
   "id": "8ea08908-6acc-4388-af37-4c699fa2f1a9",
   "metadata": {},
   "source": [
    "**Main observations**:\n",
    "\n",
    "* It is not a large data set, containing only 11 columns and 607 observations. \n",
    "* Fortunately, there are no missings in any column.\n",
    "* There is an *Unnamed* feature, like a second index, that should be dropped.\n",
    "* Most potential predictors, like *job_title* or *employment_type*, are categorical variables, while the target variable is continous. It requires especific ways to check correlations. Traditionally employed, neither scatter plot nor pierson correlation are suitable in this case.  \n",
    "\n"
   ]
  },
  {
   "cell_type": "markdown",
   "id": "c44cefe3-655f-4782-aac8-ec143a06ef11",
   "metadata": {},
   "source": [
    "# 2. Initial plan for data exploration"
   ]
  },
  {
   "cell_type": "markdown",
   "id": "f38a2f62-3c2d-4ab1-a3b1-5466c426d37d",
   "metadata": {},
   "source": [
    "* Checking distribution of target and feature variable.\n",
    "* Checking averages for groups.\n",
    "* Checking outliers in target and features.\n",
    "\n"
   ]
  },
  {
   "cell_type": "markdown",
   "id": "c8814486-bb42-41d3-af0c-ad34c2eb3a75",
   "metadata": {},
   "source": [
    "## 2.1 Checking distribution of target and feature variable."
   ]
  },
  {
   "cell_type": "markdown",
   "id": "6b350ced-0fdf-41f0-8ed6-fc0bf4e0c740",
   "metadata": {},
   "source": [
    "Most models depend on how variables are distributed, especially target variable and predictors. Their prediction capability is afected by both non-normalized distributions and outliers, which can lead to biased models. We will check the *salary_in_usd* (target variable) and three features (*job_title*, *company_location* and *experience_level*)."
   ]
  },
  {
   "cell_type": "markdown",
   "id": "7f67d642-6bd6-451e-b7e5-ff2e77802dc1",
   "metadata": {},
   "source": [
    "The method `.describe()` provide statistical summary of data, showing informations about their distributions, skew or kurtosis. Let's check our target variable."
   ]
  },
  {
   "cell_type": "markdown",
   "id": "a623f6ac-397c-4fd2-b3ca-77ed4883bc06",
   "metadata": {},
   "source": [
    "### 2.1.1 Target Variable - Salary in USD"
   ]
  },
  {
   "cell_type": "code",
   "execution_count": 27,
   "id": "330d9919-8180-4164-a8a0-503c215c2ba7",
   "metadata": {},
   "outputs": [
    {
     "data": {
      "text/plain": [
       "count      607.000\n",
       "mean    112297.870\n",
       "std      70957.259\n",
       "min       2859.000\n",
       "25%      62726.000\n",
       "50%     101570.000\n",
       "75%     150000.000\n",
       "max     600000.000\n",
       "Name: salary_in_usd, dtype: float64"
      ]
     },
     "execution_count": 27,
     "metadata": {},
     "output_type": "execute_result"
    }
   ],
   "source": [
    "#Checking target variable distribution\n",
    "df['salary_in_usd'].describe()"
   ]
  },
  {
   "cell_type": "markdown",
   "id": "f1d97cde-0e78-476d-bb00-1d432ccdafde",
   "metadata": {},
   "source": [
    "The distribution seems widely spread, since the range between max and min values is high. Also it looks like nearly a normal distribution, given how close mean is to the median (50% percentil). However, the distance between the 75th percentil and the max value is huge, indicating outliers on the top. Let's plot a histogram to see the distribution."
   ]
  },
  {
   "cell_type": "code",
   "execution_count": 10,
   "id": "541b1068-5cbb-4987-a999-c11625a310a4",
   "metadata": {},
   "outputs": [
    {
     "data": {
      "text/plain": [
       "<AxesSubplot:xlabel='salary_in_usd', ylabel='Density'>"
      ]
     },
     "execution_count": 10,
     "metadata": {},
     "output_type": "execute_result"
    },
    {
     "data": {
      "image/png": "[encoded data removed]",
      "text/plain": [
       "<Figure size 720x504 with 1 Axes>"
      ]
     },
     "metadata": {
      "needs_background": "light"
     },
     "output_type": "display_data"
    }
   ],
   "source": [
    "k = plt.figure(figsize = (10,7)) \n",
    "sns.distplot(df['salary_in_usd'], bins = 20)"
   ]
  },
  {
   "cell_type": "code",
   "execution_count": 46,
   "id": "17debf25-7f68-4c51-bf9c-720616840d37",
   "metadata": {},
   "outputs": [
    {
     "name": "stdout",
     "output_type": "stream",
     "text": [
      "Since skewness is 1.667544954563863, higher than 0, then more weight in the right tail of the distribution.\n"
     ]
    }
   ],
   "source": [
    "skew = df.salary_in_usd.skew()\n",
    "norm_skew = 0\n",
    "\n",
    "if skew == norm_skew:\n",
    "    print(\"Since skewness is equal to 0, then it is normally distributed.\")\n",
    "elif skew < norm_skew:\n",
    "    print(\"Since skewness is {}, lower than 0, then more weight in the left tail of the distribution.\". format(skew))\n",
    "else:\n",
    "    print(\"Since skewness is {}, higher than 0, then more weight in the right tail of the distribution.\". format(skew))"
   ]
  },
  {
   "cell_type": "code",
   "execution_count": 47,
   "id": "5b45350d-9d53-4aa9-a16a-cad1776390db",
   "metadata": {},
   "outputs": [
    {
     "name": "stdout",
     "output_type": "stream",
     "text": [
      "Since kurtosis is 6.353794741063377, higher than 3, it is called leptokurtic and it signifies that it tries to produce more outliers rather than the normal distribution.\n"
     ]
    }
   ],
   "source": [
    "kurtosis = df.salary_in_usd.kurtosis()\n",
    "norm_kurtosis = 3\n",
    "\n",
    "if kurtosis == norm_kurtosis:\n",
    "    print(\"Since kurtosis is equal to 3, then it is normally distributed.\")\n",
    "elif kurtosis < norm_kurtosis:\n",
    "    print(\"Since kurtosis is {},lower than 3, then it is called playkurtic.\". format(kurtosis))\n",
    "else:\n",
    "    print(\"Since kurtosis is {}, higher than 3, it is called leptokurtic and it signifies that it tries to produce more outliers rather than the normal distribution.\". format(kurtosis))"
   ]
  },
  {
   "cell_type": "markdown",
   "id": "2fac7eea-6576-4497-a9ec-77ad6bd2b0dc",
   "metadata": {},
   "source": [
    "So, as we can see, it seems that target variable needs to be transformed. "
   ]
  },
  {
   "cell_type": "markdown",
   "id": "1ae1be93-558b-448e-b28f-f5991b304801",
   "metadata": {},
   "source": [
    "### 2.1.2 Feature 1 - Company level"
   ]
  },
  {
   "cell_type": "markdown",
   "id": "59159100-a4c5-434d-8e1e-66f08dc7f257",
   "metadata": {},
   "source": [
    "Let's look at the sample size in each country, in onder to check whether their average salaries are really comparable. As we can see below, there is an overrepresentation of interviewed people from United States, which accounts for almost 60% of the respondents, no other country accounts for even 10%. In this case, I think that a predictive model should focus on United States, since it is about that country about which data can provide reliable predictions."
   ]
  },
  {
   "cell_type": "code",
   "execution_count": 49,
   "id": "ba21bbe7-a489-438e-88c5-07b27438465d",
   "metadata": {},
   "outputs": [
    {
     "data": {
      "text/plain": [
       "US   0.585\n",
       "GB   0.077\n",
       "CA   0.049\n",
       "DE   0.046\n",
       "IN   0.040\n",
       "FR   0.025\n",
       "ES   0.023\n",
       "GR   0.018\n",
       "JP   0.010\n",
       "NL   0.007\n",
       "AT   0.007\n",
       "PT   0.007\n",
       "PL   0.007\n",
       "LU   0.005\n",
       "PK   0.005\n",
       "BR   0.005\n",
       "AE   0.005\n",
       "MX   0.005\n",
       "AU   0.005\n",
       "TR   0.005\n",
       "DK   0.005\n",
       "IT   0.003\n",
       "CZ   0.003\n",
       "SI   0.003\n",
       "RU   0.003\n",
       "CH   0.003\n",
       "NG   0.003\n",
       "CN   0.003\n",
       "BE   0.003\n",
       "VN   0.002\n",
       "EE   0.002\n",
       "AS   0.002\n",
       "DZ   0.002\n",
       "MY   0.002\n",
       "MD   0.002\n",
       "KE   0.002\n",
       "SG   0.002\n",
       "CO   0.002\n",
       "IR   0.002\n",
       "CL   0.002\n",
       "MT   0.002\n",
       "IL   0.002\n",
       "UA   0.002\n",
       "IQ   0.002\n",
       "RO   0.002\n",
       "HR   0.002\n",
       "NZ   0.002\n",
       "HU   0.002\n",
       "HN   0.002\n",
       "IE   0.002\n",
       "Name: company_location, dtype: float64"
      ]
     },
     "execution_count": 49,
     "metadata": {},
     "output_type": "execute_result"
    }
   ],
   "source": [
    "df['company_location'].value_counts(normalize = True)"
   ]
  },
  {
   "cell_type": "markdown",
   "id": "bbba4207-c8e2-4c08-9fd2-03a24ab3c8e2",
   "metadata": {},
   "source": [
    "### 2.1.3 Feature 2 - Experience level"
   ]
  },
  {
   "cell_type": "markdown",
   "id": "b96a3014-b1e9-4ef1-b5ef-81dd9ce18414",
   "metadata": {},
   "source": [
    "Regarding american interviewed, senior data scientists were more interviewed, which is reasonable, because is neither a begineer nor an leader position. Also, as expected, the highest average salary is for Executive (EX)."
   ]
  },
  {
   "cell_type": "code",
   "execution_count": 72,
   "id": "7b642369-0e9e-4545-b70b-81d30d7ae5e9",
   "metadata": {},
   "outputs": [
    {
     "data": {
      "text/plain": [
       "experience_level\n",
       "SE                  218\n",
       "MI                   90\n",
       "EN                   31\n",
       "EX                   16\n",
       "dtype: int64"
      ]
     },
     "execution_count": 72,
     "metadata": {},
     "output_type": "execute_result"
    }
   ],
   "source": [
    "df1 = df[df['company_location'] == \"US\"] #slicing data by US sample\n",
    "df1[['experience_level']].value_counts() #frequency for experience level"
   ]
  },
  {
   "cell_type": "code",
   "execution_count": 76,
   "id": "d60420ba-a754-40b0-bd89-b2c6f2e72b78",
   "metadata": {},
   "outputs": [
    {
     "data": {
      "text/plain": [
       "experience_level\n",
       "EX   243742.188\n",
       "SE   151527.633\n",
       "MI   125780.211\n",
       "EN    93112.903\n",
       "Name: salary_in_usd, dtype: float64"
      ]
     },
     "execution_count": 76,
     "metadata": {},
     "output_type": "execute_result"
    }
   ],
   "source": [
    "df1.groupby('experience_level').salary_in_usd.mean().sort_values(ascending = False) #average salary by experience level"
   ]
  },
  {
   "cell_type": "markdown",
   "id": "42d10e7f-edb7-42d9-b4f4-c93265d6a1e3",
   "metadata": {},
   "source": [
    "### 2.1.4 Job Title"
   ]
  },
  {
   "cell_type": "markdown",
   "id": "3d85e171-c24b-40de-8a86-f489435accc7",
   "metadata": {},
   "source": [
    "Data Science is a broad field with several functions among which the average salary might vary. As can be seen below, there is a lot of categories, so that it would be useful join some of them, especially those one with a few observations."
   ]
  },
  {
   "cell_type": "code",
   "execution_count": 80,
   "id": "bbdc9c31-bbf2-4124-8714-3fb1d01902bf",
   "metadata": {},
   "outputs": [
    {
     "data": {
      "text/plain": [
       "Data Engineer                               85\n",
       "Data Scientist                              84\n",
       "Data Analyst                                71\n",
       "Machine Learning Engineer                   16\n",
       "Data Science Manager                        10\n",
       "Data Architect                               9\n",
       "Data Analytics Manager                       7\n",
       "BI Data Analyst                              5\n",
       "Machine Learning Scientist                   5\n",
       "Analytics Engineer                           4\n",
       "Principal Data Scientist                     4\n",
       "AI Scientist                                 4\n",
       "Research Scientist                           4\n",
       "Head of Data Science                         3\n",
       "Lead Data Engineer                           3\n",
       "Data Engineering Manager                     3\n",
       "Applied Data Scientist                       3\n",
       "Applied Machine Learning Scientist           3\n",
       "Principal Data Engineer                      3\n",
       "Computer Vision Software Engineer            2\n",
       "Financial Data Analyst                       2\n",
       "Head of Data                                 2\n",
       "Computer Vision Engineer                     2\n",
       "Data Science Consultant                      2\n",
       "Business Data Analyst                        2\n",
       "Director of Data Science                     2\n",
       "ML Engineer                                  2\n",
       "Lead Data Analyst                            2\n",
       "Data Analytics Engineer                      1\n",
       "Principal Data Analyst                       1\n",
       "Lead Data Scientist                          1\n",
       "NLP Engineer                                 1\n",
       "Staff Data Scientist                         1\n",
       "Machine Learning Infrastructure Engineer     1\n",
       "Director of Data Engineering                 1\n",
       "Data Specialist                              1\n",
       "Big Data Engineer                            1\n",
       "Cloud Data Engineer                          1\n",
       "Data Analytics Lead                          1\n",
       "Name: job_title, dtype: int64"
      ]
     },
     "execution_count": 80,
     "metadata": {},
     "output_type": "execute_result"
    }
   ],
   "source": [
    "df1['job_title'].value_counts()"
   ]
  },
  {
   "cell_type": "markdown",
   "id": "4e732a90-12e7-4138-999e-5b1e9ddbef94",
   "metadata": {},
   "source": [
    "## 2.2 Outliers"
   ]
  },
  {
   "cell_type": "markdown",
   "id": "066490f8-7ae0-4f36-b29e-5a13d1959e61",
   "metadata": {},
   "source": [
    "Outliers can produce biased models, that is why we have to pay attention them. The target variable is a continous variable. "
   ]
  },
  {
   "cell_type": "code",
   "execution_count": 95,
   "id": "e33eaf36-0854-4331-b77a-0e763f64c8b6",
   "metadata": {},
   "outputs": [
    {
     "data": {
      "text/plain": [
       "<AxesSubplot:xlabel='salary_in_usd'>"
      ]
     },
     "execution_count": 95,
     "metadata": {},
     "output_type": "execute_result"
    },
    {
     "data": {
      "image/png": "[encoded data removed]",
      "text/plain": [
       "<Figure size 1080x576 with 1 Axes>"
      ]
     },
     "metadata": {
      "needs_background": "light"
     },
     "output_type": "display_data"
    }
   ],
   "source": [
    "sns.boxplot(x = df['salary_in_usd'])"
   ]
  },
  {
   "cell_type": "markdown",
   "id": "f7b5ff4a-479e-49be-913a-a1779320fd63",
   "metadata": {},
   "source": [
    "As suggested earlier, there is a couple of outliers. Also outliers skew the distribution to the left. This indicates that some measures must be made to normalize distribution. "
   ]
  },
  {
   "cell_type": "markdown",
   "id": "4248854e-588a-49f8-8cd4-9ff730c6c5be",
   "metadata": {},
   "source": [
    "# 3 Actions taken for data cleaning and feature engineering"
   ]
  },
  {
   "cell_type": "markdown",
   "id": "e5cbac0a-4b24-458c-8766-595b08c93e56",
   "metadata": {},
   "source": [
    "* Handling outliers in the target variable\n",
    "* Transform categories within experience_level, job_type and company_location\n",
    "* Create a numeric id for company location"
   ]
  },
  {
   "cell_type": "markdown",
   "id": "a7d899aa-a983-42b9-82cb-e3ade5711af6",
   "metadata": {},
   "source": [
    "# 3.1 Target Variable"
   ]
  },
  {
   "cell_type": "markdown",
   "id": "4cd0e5d3-b5aa-4c37-a9f4-4555e88d32e1",
   "metadata": {},
   "source": [
    "Let's check if log transformation solves normal distribution and outliers in target variable."
   ]
  },
  {
   "cell_type": "code",
   "execution_count": 81,
   "id": "2579845f-ea44-4cf6-9186-95001dcac4e4",
   "metadata": {},
   "outputs": [
    {
     "data": {
      "text/plain": [
       "Text(0.5, 0.98, 'Salary in USD')"
      ]
     },
     "execution_count": 81,
     "metadata": {},
     "output_type": "execute_result"
    },
    {
     "data": {
      "image/png": "[encoded data removed]",
      "text/plain": [
       "<Figure size 720x360 with 2 Axes>"
      ]
     },
     "metadata": {
      "needs_background": "light"
     },
     "output_type": "display_data"
    }
   ],
   "source": [
    "# Let's look at what happens to one of these features, when we apply np.log1p visually.\n",
    "\n",
    "# Choose a field\n",
    "# Create two \"subplots\" and a \"figure\" using matplotlib\n",
    "fig, (ax_before, ax_after) = plt.subplots(1, 2, figsize=(10, 5))\n",
    "\n",
    "# Create a histogram on the \"ax_before\" subplot\n",
    "df1['salary_in_usd'].hist(ax=ax_before)\n",
    "\n",
    "# Apply a log transformation (numpy syntax) to this column\n",
    "df1['salary_in_usd'].apply(np.log1p).hist(ax=ax_after)\n",
    "\n",
    "# Formatting of titles etc. for each subplot\n",
    "ax_before.set(title='before np.log1p', ylabel='frequency', xlabel='value')\n",
    "ax_after.set(title='after np.log1p', ylabel='frequency', xlabel='value')\n",
    "fig.suptitle('Salary in USD')"
   ]
  },
  {
   "cell_type": "code",
   "execution_count": 100,
   "id": "98ac5364-7af9-41b2-942e-b055cd59bdd8",
   "metadata": {},
   "outputs": [
    {
     "name": "stdout",
     "output_type": "stream",
     "text": [
      "0.7042816277796355 2.113709158175574\n"
     ]
    }
   ],
   "source": [
    "print(np.log(df1['salary_in_usd'].skew()),np.log(df1['salary_in_usd'].kurtosis()))"
   ]
  },
  {
   "cell_type": "markdown",
   "id": "8d8c03c8-023d-4beb-9f3f-d799b2b0d041",
   "metadata": {},
   "source": [
    "Now we have skewness and kurtosis closer than a normal distribution, but below we note that ouliers remain."
   ]
  },
  {
   "cell_type": "code",
   "execution_count": 84,
   "id": "345fb4d2-25a2-4e2e-bbe1-8752eea1fdb5",
   "metadata": {},
   "outputs": [
    {
     "data": {
      "text/plain": [
       "<AxesSubplot:xlabel='salary_in_usd'>"
      ]
     },
     "execution_count": 84,
     "metadata": {},
     "output_type": "execute_result"
    },
    {
     "data": {
      "image/png": "[encoded data removed]",
      "text/plain": [
       "<Figure size 864x504 with 1 Axes>"
      ]
     },
     "metadata": {
      "needs_background": "light"
     },
     "output_type": "display_data"
    }
   ],
   "source": [
    "plt.figure(figsize= (12,7)) \n",
    "sns.boxplot(x = np.log(df1['salary_in_usd']))\n",
    "#However, now we have outliers at the bottom."
   ]
  },
  {
   "cell_type": "code",
   "execution_count": 103,
   "id": "f8f506d1-255a-483c-aa38-3c735d94811a",
   "metadata": {},
   "outputs": [
    {
     "data": {
      "text/html": [
       "<div>\n",
       "<style scoped>\n",
       "    .dataframe tbody tr th:only-of-type {\n",
       "        vertical-align: middle;\n",
       "    }\n",
       "\n",
       "    .dataframe tbody tr th {\n",
       "        vertical-align: top;\n",
       "    }\n",
       "\n",
       "    .dataframe thead th {\n",
       "        text-align: right;\n",
       "    }\n",
       "</style>\n",
       "<table border=\"1\" class=\"dataframe\">\n",
       "  <thead>\n",
       "    <tr style=\"text-align: right;\">\n",
       "      <th></th>\n",
       "      <th>stats_salary</th>\n",
       "      <th>salary_in_usd</th>\n",
       "    </tr>\n",
       "  </thead>\n",
       "  <tbody>\n",
       "    <tr>\n",
       "      <th>count</th>\n",
       "      <td>355.000</td>\n",
       "      <td>355.000</td>\n",
       "    </tr>\n",
       "    <tr>\n",
       "      <th>mean</th>\n",
       "      <td>0.000</td>\n",
       "      <td>144055.262</td>\n",
       "    </tr>\n",
       "    <tr>\n",
       "      <th>std</th>\n",
       "      <td>1.001</td>\n",
       "      <td>69906.895</td>\n",
       "    </tr>\n",
       "    <tr>\n",
       "      <th>min</th>\n",
       "      <td>-6.066</td>\n",
       "      <td>5679.000</td>\n",
       "    </tr>\n",
       "    <tr>\n",
       "      <th>25%</th>\n",
       "      <td>-0.488</td>\n",
       "      <td>100000.000</td>\n",
       "    </tr>\n",
       "    <tr>\n",
       "      <th>50%</th>\n",
       "      <td>0.095</td>\n",
       "      <td>135000.000</td>\n",
       "    </tr>\n",
       "    <tr>\n",
       "      <th>75%</th>\n",
       "      <td>0.544</td>\n",
       "      <td>170000.000</td>\n",
       "    </tr>\n",
       "    <tr>\n",
       "      <th>max</th>\n",
       "      <td>2.996</td>\n",
       "      <td>600000.000</td>\n",
       "    </tr>\n",
       "  </tbody>\n",
       "</table>\n",
       "</div>"
      ],
      "text/plain": [
       "       stats_salary  salary_in_usd\n",
       "count       355.000        355.000\n",
       "mean          0.000     144055.262\n",
       "std           1.001      69906.895\n",
       "min          -6.066       5679.000\n",
       "25%          -0.488     100000.000\n",
       "50%           0.095     135000.000\n",
       "75%           0.544     170000.000\n",
       "max           2.996     600000.000"
      ]
     },
     "execution_count": 103,
     "metadata": {},
     "output_type": "execute_result"
    }
   ],
   "source": [
    "df1['stats_salary'] = stats.zscore(np.log(df1['salary_in_usd']))\n",
    "df1[['stats_salary', 'salary_in_usd']].describe().round(3)"
   ]
  },
  {
   "cell_type": "markdown",
   "id": "af88722e-f56e-48c2-8d83-999df86bcbb9",
   "metadata": {},
   "source": [
    "I use the z-score technique to check normalization and outliers after log transformation. The Z-core mean of stats_salary is 0, which shows that distribution was normalized. There are a few values that keep slightly below of the limit, then I think that the best choice is not drop any value. "
   ]
  },
  {
   "cell_type": "code",
   "execution_count": 107,
   "id": "1510e922-07bc-474a-a7db-f5081ba2077b",
   "metadata": {},
   "outputs": [
    {
     "data": {
      "text/html": [
       "<div>\n",
       "<style scoped>\n",
       "    .dataframe tbody tr th:only-of-type {\n",
       "        vertical-align: middle;\n",
       "    }\n",
       "\n",
       "    .dataframe tbody tr th {\n",
       "        vertical-align: top;\n",
       "    }\n",
       "\n",
       "    .dataframe thead th {\n",
       "        text-align: right;\n",
       "    }\n",
       "</style>\n",
       "<table border=\"1\" class=\"dataframe\">\n",
       "  <thead>\n",
       "    <tr style=\"text-align: right;\">\n",
       "      <th></th>\n",
       "      <th>stats_salary</th>\n",
       "      <th>salary_in_usd</th>\n",
       "      <th>experience_level</th>\n",
       "    </tr>\n",
       "  </thead>\n",
       "  <tbody>\n",
       "    <tr>\n",
       "      <th>179</th>\n",
       "      <td>-6.066</td>\n",
       "      <td>5679</td>\n",
       "      <td>MI</td>\n",
       "    </tr>\n",
       "    <tr>\n",
       "      <th>113</th>\n",
       "      <td>-4.611</td>\n",
       "      <td>12000</td>\n",
       "      <td>EN</td>\n",
       "    </tr>\n",
       "    <tr>\n",
       "      <th>96</th>\n",
       "      <td>-4.611</td>\n",
       "      <td>12000</td>\n",
       "      <td>EN</td>\n",
       "    </tr>\n",
       "    <tr>\n",
       "      <th>208</th>\n",
       "      <td>-3.618</td>\n",
       "      <td>20000</td>\n",
       "      <td>MI</td>\n",
       "    </tr>\n",
       "    <tr>\n",
       "      <th>579</th>\n",
       "      <td>-3.184</td>\n",
       "      <td>25000</td>\n",
       "      <td>SE</td>\n",
       "    </tr>\n",
       "    <tr>\n",
       "      <th>182</th>\n",
       "      <td>-3.107</td>\n",
       "      <td>26005</td>\n",
       "      <td>MI</td>\n",
       "    </tr>\n",
       "    <tr>\n",
       "      <th>102</th>\n",
       "      <td>-2.461</td>\n",
       "      <td>36259</td>\n",
       "      <td>MI</td>\n",
       "    </tr>\n",
       "    <tr>\n",
       "      <th>455</th>\n",
       "      <td>-2.409</td>\n",
       "      <td>37236</td>\n",
       "      <td>MI</td>\n",
       "    </tr>\n",
       "    <tr>\n",
       "      <th>132</th>\n",
       "      <td>-2.349</td>\n",
       "      <td>38400</td>\n",
       "      <td>MI</td>\n",
       "    </tr>\n",
       "    <tr>\n",
       "      <th>40</th>\n",
       "      <td>-2.008</td>\n",
       "      <td>45760</td>\n",
       "      <td>MI</td>\n",
       "    </tr>\n",
       "  </tbody>\n",
       "</table>\n",
       "</div>"
      ],
      "text/plain": [
       "     stats_salary  salary_in_usd experience_level\n",
       "179        -6.066           5679               MI\n",
       "113        -4.611          12000               EN\n",
       "96         -4.611          12000               EN\n",
       "208        -3.618          20000               MI\n",
       "579        -3.184          25000               SE\n",
       "182        -3.107          26005               MI\n",
       "102        -2.461          36259               MI\n",
       "455        -2.409          37236               MI\n",
       "132        -2.349          38400               MI\n",
       "40         -2.008          45760               MI"
      ]
     },
     "execution_count": 107,
     "metadata": {},
     "output_type": "execute_result"
    }
   ],
   "source": [
    "df1[['stats_salary', 'salary_in_usd', 'experience_level']].sort_values(by = 'salary_in_usd')[:10] "
   ]
  },
  {
   "cell_type": "markdown",
   "id": "e6d30193-4917-4f8f-a585-f45898bf33cc",
   "metadata": {},
   "source": [
    "## 3.2 Transforming categorical variables"
   ]
  },
  {
   "cell_type": "markdown",
   "id": "c71e1b47-774d-437e-ab02-0103d721827f",
   "metadata": {},
   "source": [
    "I will merge categories of job_title, since there are many categories that resembles each other and other with very few observations. Let's merge variations of 'Data scientists', 'Data Analyst', 'Data Engineer' into the main categories. "
   ]
  },
  {
   "cell_type": "code",
   "execution_count": 108,
   "id": "02fd4036-3929-4325-9ae9-4cd457db46c2",
   "metadata": {},
   "outputs": [
    {
     "data": {
      "text/plain": [
       "Data Engineer                               85\n",
       "Data Scientist                              84\n",
       "Data Analyst                                71\n",
       "Machine Learning Engineer                   16\n",
       "Data Science Manager                        10\n",
       "Data Architect                               9\n",
       "Data Analytics Manager                       7\n",
       "BI Data Analyst                              5\n",
       "Machine Learning Scientist                   5\n",
       "Analytics Engineer                           4\n",
       "Principal Data Scientist                     4\n",
       "AI Scientist                                 4\n",
       "Research Scientist                           4\n",
       "Head of Data Science                         3\n",
       "Lead Data Engineer                           3\n",
       "Data Engineering Manager                     3\n",
       "Applied Data Scientist                       3\n",
       "Applied Machine Learning Scientist           3\n",
       "Principal Data Engineer                      3\n",
       "Computer Vision Software Engineer            2\n",
       "Financial Data Analyst                       2\n",
       "Head of Data                                 2\n",
       "Computer Vision Engineer                     2\n",
       "Data Science Consultant                      2\n",
       "Business Data Analyst                        2\n",
       "Director of Data Science                     2\n",
       "ML Engineer                                  2\n",
       "Lead Data Analyst                            2\n",
       "Data Analytics Engineer                      1\n",
       "Principal Data Analyst                       1\n",
       "Lead Data Scientist                          1\n",
       "NLP Engineer                                 1\n",
       "Staff Data Scientist                         1\n",
       "Machine Learning Infrastructure Engineer     1\n",
       "Director of Data Engineering                 1\n",
       "Data Specialist                              1\n",
       "Big Data Engineer                            1\n",
       "Cloud Data Engineer                          1\n",
       "Data Analytics Lead                          1\n",
       "Name: job_title, dtype: int64"
      ]
     },
     "execution_count": 108,
     "metadata": {},
     "output_type": "execute_result"
    }
   ],
   "source": [
    "df1.job_title.value_counts()"
   ]
  },
  {
   "cell_type": "code",
   "execution_count": 109,
   "id": "7669ad8f-79cf-44ea-915a-5f74d561c604",
   "metadata": {},
   "outputs": [],
   "source": [
    "data = df1.copy() #making a backup\n",
    "\n",
    "#aggregating different categories for Data Science\n",
    "df1['job_title'] = np.where((df1['job_title'] == 'Data Science Manager') | (df1['job_title'] == 'Applied Data Scientist') | (df1['job_title'] == 'Head of Data Science') |\n",
    "                            (df1['job_title'] =='Staff Data Scientist') | (df1['job_title'] == 'Data Science Consultant') |  (df1['job_title'] == 'Principal Data Scientist')|\n",
    "                             (df1['job_title'] == 'Lead Data Scientist') | (df1['job_title'] == 'Director of Data Science'), 'Data Scientist', df1['job_title'])"
   ]
  },
  {
   "cell_type": "code",
   "execution_count": 110,
   "id": "85b02f60-c203-4e1c-b82f-1b7a0ac855a5",
   "metadata": {},
   "outputs": [],
   "source": [
    "#aggregating different categories for Data Engineer\n",
    "df1['job_title'] = np.where((df1['job_title'] == 'Machine Learning Engineer') | (df1['job_title'] == 'Big Data Engineer') | (df1['job_title'] == 'Lead Data Engineer') |\n",
    "                            (df1['job_title'] =='Principal Data Engineer') | (df1['job_title'] == 'Director of Data Engineering') | (df1['job_title'] == 'Cloud Data Engineer')|\n",
    "                            (df1['job_title'] == 'Director of Data Engineering') | (df1['job_title'] == 'Lead Machine Learning Engineer') | (df1['job_title'] == 'NLP Engineer') |\n",
    "                            (df1['job_title'] == 'Machine Learning Infrastructure Engineer') | (df1['job_title'] == 'ML Engineer'), 'Data Engineer', df1['job_title'])"
   ]
  },
  {
   "cell_type": "code",
   "execution_count": 111,
   "id": "251b1356-26f9-4d1a-a8b1-077127895a3c",
   "metadata": {},
   "outputs": [],
   "source": [
    "#aggregating different categories for Data Analytics\n",
    "df1['job_title'] = np.where((df1['job_title'] == 'Data Analytics Manager') | (df1['job_title'] == 'Big Data Analyst') | (df1['job_title'] == 'Business Data Analyst') |\n",
    "                            (df1['job_title'] =='Lead Data Analyst') | (df1['job_title'] == 'Product Data Analyst') | (df1['job_title'] == 'Financial Data Analyst')|\n",
    "                            (df1['job_title'] == 'Principal Data Analyst') | (df1['job_title'] == 'Finance Data Analyst') | (df1['job_title'] == 'Marketing Data Analyst') |\n",
    "                            (df1['job_title'] == 'Data Analytics Lead') | (df1['job_title'] == 'BI Data Analyst'), 'Data Analyst', df1['job_title'])"
   ]
  },
  {
   "cell_type": "code",
   "execution_count": 112,
   "id": "c659cbf9-fcac-4489-a66b-7e25948402d0",
   "metadata": {},
   "outputs": [],
   "source": [
    "#aggregating different categories for Architect\n",
    "df1['job_title'] = np.where((df1['job_title'] == 'Big Data Architect'), 'Data Architect', df1['job_title'])"
   ]
  },
  {
   "cell_type": "code",
   "execution_count": 113,
   "id": "0760452e-934e-4a18-b2f9-6042bfedb6fc",
   "metadata": {},
   "outputs": [],
   "source": [
    "#aggregating different categories for Machine Learning Scientist\n",
    "df1['job_title'] = np.where((df1['job_title'] == 'Applied Machine Learning Scientist') | (df1['job_title'] == 'Machine Learning Manager') |\n",
    "                            (df1['job_title'] == 'Machine Learning Developer') | (df1['job_title'] == 'Head of Machine Learning'),\n",
    "                             'Machine Learning Scientist', df1['job_title'])"
   ]
  },
  {
   "cell_type": "code",
   "execution_count": 114,
   "id": "f7a55d58-c635-4278-853e-dea869985566",
   "metadata": {},
   "outputs": [
    {
     "data": {
      "text/plain": [
       "Data Engineer                        114\n",
       "Data Scientist                       110\n",
       "Data Analyst                          91\n",
       "Data Architect                         9\n",
       "Machine Learning Scientist             8\n",
       "Research Scientist                     4\n",
       "AI Scientist                           4\n",
       "Analytics Engineer                     4\n",
       "Data Engineering Manager               3\n",
       "Computer Vision Engineer               2\n",
       "Head of Data                           2\n",
       "Computer Vision Software Engineer      2\n",
       "Data Analytics Engineer                1\n",
       "Data Specialist                        1\n",
       "Name: job_title, dtype: int64"
      ]
     },
     "execution_count": 114,
     "metadata": {},
     "output_type": "execute_result"
    }
   ],
   "source": [
    "df1.job_title.value_counts()"
   ]
  },
  {
   "cell_type": "code",
   "execution_count": 115,
   "id": "778c8430-0bcd-4842-8d9e-e9f4a66a03d3",
   "metadata": {},
   "outputs": [
    {
     "data": {
      "text/plain": [
       "Data Engineer                        114\n",
       "Data Scientist                       110\n",
       "Data Analyst                          91\n",
       "Data Architect                         9\n",
       "Machine Learning Scientist             8\n",
       "Research Scientist                     4\n",
       "AI Scientist                           4\n",
       "Analytics Engineer                     4\n",
       "Data Engineering Manager               3\n",
       "Computer Vision Engineer               2\n",
       "Head of Data                           2\n",
       "Computer Vision Software Engineer      2\n",
       "Data Analytics Engineer                1\n",
       "Data Specialist                        1\n",
       "Name: job_title, dtype: int64"
      ]
     },
     "execution_count": 115,
     "metadata": {},
     "output_type": "execute_result"
    }
   ],
   "source": [
    "counts_job = df1.job_title.value_counts() #extracting value counts of the attribute job_title\n",
    "counts_job"
   ]
  },
  {
   "cell_type": "code",
   "execution_count": 127,
   "id": "c65a8fe7-b555-4ccc-9476-13a9231fb278",
   "metadata": {},
   "outputs": [],
   "source": [
    "other_job = list(counts_job[counts_job <= 7].index) #filtering by values counts below 4"
   ]
  },
  {
   "cell_type": "code",
   "execution_count": 128,
   "id": "bef2f5a4-a989-4ab0-aa1e-6223afcc9685",
   "metadata": {},
   "outputs": [
    {
     "data": {
      "text/plain": [
       "Data Engineer                 114\n",
       "Data Scientist                110\n",
       "Data Analyst                   91\n",
       "Other                          23\n",
       "Data Architect                  9\n",
       "Machine Learning Scientist      8\n",
       "Name: job_title, dtype: int64"
      ]
     },
     "execution_count": 128,
     "metadata": {},
     "output_type": "execute_result"
    }
   ],
   "source": [
    "df2 = df1.copy() #making a backup\n",
    "df2['job_title'] = df2['job_title'].replace(other_job, 'Other') #replacing by merge categories\n",
    "df2['job_title'].value_counts() #it has remained these categories within job_title "
   ]
  },
  {
   "cell_type": "markdown",
   "id": "5c807d21-6552-4d4e-9d27-99cbbc05dda2",
   "metadata": {},
   "source": [
    "Here we replace the variable job title by the new one with grouped categories.  Now we can plot to better analyse the relation between job title and wages. Let's calculate average salary for each job title."
   ]
  },
  {
   "cell_type": "code",
   "execution_count": 130,
   "id": "88278350-7be4-4063-9153-249559cedf64",
   "metadata": {},
   "outputs": [],
   "source": [
    "order = df2.groupby('job_title')['salary_in_usd'].mean().sort_values(ascending = False).index"
   ]
  },
  {
   "cell_type": "code",
   "execution_count": 132,
   "id": "8aa1b016-a01a-417a-9bae-ee75a93dfffb",
   "metadata": {},
   "outputs": [
    {
     "data": {
      "image/png": "[encoded data removed]",
      "text/plain": [
       "<Figure size 1080x576 with 1 Axes>"
      ]
     },
     "metadata": {},
     "output_type": "display_data"
    }
   ],
   "source": [
    "z =plt.figure(figsize=(15,8))\n",
    "sns.set_style(\"white\")\n",
    "sns.barplot(x = 'salary_in_usd', y = 'job_title', orient = 'h', palette = 'ocean', order = order, data = df2)\n",
    "sns.despine(top=True, right=True, left=False, bottom=False)\n",
    "sns.set(font_scale=2)\n",
    "plt.title('Average salary of data scientists worldwide per year in United States', fontsize = 28)\n",
    "plt.xlabel('Salary in U$ Dolars', fontsize = 16)\n",
    "plt.ylabel('')\n",
    "plt.ticklabel_format(style='plain', axis='x')\n",
    "plt.show()"
   ]
  },
  {
   "cell_type": "code",
   "execution_count": 214,
   "id": "38e216c8-4b07-42d6-af17-adf87428178e",
   "metadata": {},
   "outputs": [],
   "source": [
    "z.savefig(\"wage_ds1.png\", bbox_inches='tight')"
   ]
  },
  {
   "cell_type": "markdown",
   "id": "9929c611-a510-486d-8168-5b0efe2f24a2",
   "metadata": {},
   "source": [
    "As can be seen, the graph shows the confidence interval for each category, since the number of observations among cases varies.  For instance, Data Architect has the highest wage, but there are just 9 observations, while Data Engineer has 114. In such case, it is useful calculate a weighted average."
   ]
  },
  {
   "cell_type": "code",
   "execution_count": 133,
   "id": "07e77daa-cb4a-4e46-bb61-dbdc0131159b",
   "metadata": {},
   "outputs": [],
   "source": [
    "pond = df2.job_title.value_counts(normalize = True) *10 #As a weight, I am going to use observations frequency for each job title\n",
    "som = df2.groupby('job_title')['salary_in_usd'].sum() #sum \n",
    "df3 = df2.rename(columns = {'job_title': 'new'}) #renaming for conconate foward\n",
    "n = df3['new'].value_counts() #extracting total n"
   ]
  },
  {
   "cell_type": "code",
   "execution_count": 134,
   "id": "bebbc0fd-1611-4812-8433-8438f5d2003f",
   "metadata": {},
   "outputs": [
    {
     "data": {
      "text/html": [
       "<div>\n",
       "<style scoped>\n",
       "    .dataframe tbody tr th:only-of-type {\n",
       "        vertical-align: middle;\n",
       "    }\n",
       "\n",
       "    .dataframe tbody tr th {\n",
       "        vertical-align: top;\n",
       "    }\n",
       "\n",
       "    .dataframe thead th {\n",
       "        text-align: right;\n",
       "    }\n",
       "</style>\n",
       "<table border=\"1\" class=\"dataframe\">\n",
       "  <thead>\n",
       "    <tr style=\"text-align: right;\">\n",
       "      <th></th>\n",
       "      <th>job_title</th>\n",
       "      <th>salary_in_usd</th>\n",
       "      <th>new</th>\n",
       "    </tr>\n",
       "  </thead>\n",
       "  <tbody>\n",
       "    <tr>\n",
       "      <th>Data Engineer</th>\n",
       "      <td>3.211</td>\n",
       "      <td>17246726</td>\n",
       "      <td>114</td>\n",
       "    </tr>\n",
       "    <tr>\n",
       "      <th>Data Scientist</th>\n",
       "      <td>3.099</td>\n",
       "      <td>16975869</td>\n",
       "      <td>110</td>\n",
       "    </tr>\n",
       "    <tr>\n",
       "      <th>Data Analyst</th>\n",
       "      <td>2.563</td>\n",
       "      <td>10591064</td>\n",
       "      <td>91</td>\n",
       "    </tr>\n",
       "    <tr>\n",
       "      <th>Other</th>\n",
       "      <td>0.648</td>\n",
       "      <td>3345746</td>\n",
       "      <td>23</td>\n",
       "    </tr>\n",
       "    <tr>\n",
       "      <th>Data Architect</th>\n",
       "      <td>0.254</td>\n",
       "      <td>1673513</td>\n",
       "      <td>9</td>\n",
       "    </tr>\n",
       "    <tr>\n",
       "      <th>Machine Learning Scientist</th>\n",
       "      <td>0.225</td>\n",
       "      <td>1306700</td>\n",
       "      <td>8</td>\n",
       "    </tr>\n",
       "  </tbody>\n",
       "</table>\n",
       "</div>"
      ],
      "text/plain": [
       "                            job_title  salary_in_usd  new\n",
       "Data Engineer                   3.211       17246726  114\n",
       "Data Scientist                  3.099       16975869  110\n",
       "Data Analyst                    2.563       10591064   91\n",
       "Other                           0.648        3345746   23\n",
       "Data Architect                  0.254        1673513    9\n",
       "Machine Learning Scientist      0.225        1306700    8"
      ]
     },
     "execution_count": 134,
     "metadata": {},
     "output_type": "execute_result"
    }
   ],
   "source": [
    "con = pd.concat([pond, som, n], axis = 1) #joining those values into a new dataframe\n",
    "con = pd.DataFrame(con)\n",
    "con"
   ]
  },
  {
   "cell_type": "code",
   "execution_count": 135,
   "id": "9429c6e5-dc94-43f3-b7df-f970cdd5c5a2",
   "metadata": {},
   "outputs": [
    {
     "data": {
      "text/html": [
       "<div>\n",
       "<style scoped>\n",
       "    .dataframe tbody tr th:only-of-type {\n",
       "        vertical-align: middle;\n",
       "    }\n",
       "\n",
       "    .dataframe tbody tr th {\n",
       "        vertical-align: top;\n",
       "    }\n",
       "\n",
       "    .dataframe thead th {\n",
       "        text-align: right;\n",
       "    }\n",
       "</style>\n",
       "<table border=\"1\" class=\"dataframe\">\n",
       "  <thead>\n",
       "    <tr style=\"text-align: right;\">\n",
       "      <th></th>\n",
       "      <th>job_title</th>\n",
       "      <th>salary_in_usd</th>\n",
       "      <th>new</th>\n",
       "      <th>weight</th>\n",
       "    </tr>\n",
       "  </thead>\n",
       "  <tbody>\n",
       "    <tr>\n",
       "      <th>Data Engineer</th>\n",
       "      <td>3.211</td>\n",
       "      <td>17246726</td>\n",
       "      <td>114</td>\n",
       "      <td>485823.268</td>\n",
       "    </tr>\n",
       "    <tr>\n",
       "      <th>Data Scientist</th>\n",
       "      <td>3.099</td>\n",
       "      <td>16975869</td>\n",
       "      <td>110</td>\n",
       "      <td>478193.493</td>\n",
       "    </tr>\n",
       "    <tr>\n",
       "      <th>Data Analyst</th>\n",
       "      <td>2.563</td>\n",
       "      <td>10591064</td>\n",
       "      <td>91</td>\n",
       "      <td>298339.831</td>\n",
       "    </tr>\n",
       "    <tr>\n",
       "      <th>Other</th>\n",
       "      <td>0.648</td>\n",
       "      <td>3345746</td>\n",
       "      <td>23</td>\n",
       "      <td>94246.366</td>\n",
       "    </tr>\n",
       "    <tr>\n",
       "      <th>Data Architect</th>\n",
       "      <td>0.254</td>\n",
       "      <td>1673513</td>\n",
       "      <td>9</td>\n",
       "      <td>47141.211</td>\n",
       "    </tr>\n",
       "    <tr>\n",
       "      <th>Machine Learning Scientist</th>\n",
       "      <td>0.225</td>\n",
       "      <td>1306700</td>\n",
       "      <td>8</td>\n",
       "      <td>36808.451</td>\n",
       "    </tr>\n",
       "  </tbody>\n",
       "</table>\n",
       "</div>"
      ],
      "text/plain": [
       "                            job_title  salary_in_usd  new     weight\n",
       "Data Engineer                   3.211       17246726  114 485823.268\n",
       "Data Scientist                  3.099       16975869  110 478193.493\n",
       "Data Analyst                    2.563       10591064   91 298339.831\n",
       "Other                           0.648        3345746   23  94246.366\n",
       "Data Architect                  0.254        1673513    9  47141.211\n",
       "Machine Learning Scientist      0.225        1306700    8  36808.451"
      ]
     },
     "execution_count": 135,
     "metadata": {},
     "output_type": "execute_result"
    }
   ],
   "source": [
    "con['weight'] = (con['salary_in_usd']*con['job_title'])/con['new'] #calculating mean weighted\n",
    "con.sort_values('weight', ascending = False)"
   ]
  },
  {
   "cell_type": "code",
   "execution_count": 136,
   "id": "517c5db4-861a-43bf-8b08-c65aed600357",
   "metadata": {},
   "outputs": [
    {
     "data": {
      "text/html": [
       "<div>\n",
       "<style scoped>\n",
       "    .dataframe tbody tr th:only-of-type {\n",
       "        vertical-align: middle;\n",
       "    }\n",
       "\n",
       "    .dataframe tbody tr th {\n",
       "        vertical-align: top;\n",
       "    }\n",
       "\n",
       "    .dataframe thead th {\n",
       "        text-align: right;\n",
       "    }\n",
       "</style>\n",
       "<table border=\"1\" class=\"dataframe\">\n",
       "  <thead>\n",
       "    <tr style=\"text-align: right;\">\n",
       "      <th></th>\n",
       "      <th>index</th>\n",
       "      <th>job_title</th>\n",
       "      <th>salary_in_usd</th>\n",
       "      <th>new</th>\n",
       "      <th>weight</th>\n",
       "    </tr>\n",
       "  </thead>\n",
       "  <tbody>\n",
       "    <tr>\n",
       "      <th>0</th>\n",
       "      <td>Data Engineer</td>\n",
       "      <td>3.211</td>\n",
       "      <td>17246726</td>\n",
       "      <td>114</td>\n",
       "      <td>485823.268</td>\n",
       "    </tr>\n",
       "    <tr>\n",
       "      <th>1</th>\n",
       "      <td>Data Scientist</td>\n",
       "      <td>3.099</td>\n",
       "      <td>16975869</td>\n",
       "      <td>110</td>\n",
       "      <td>478193.493</td>\n",
       "    </tr>\n",
       "    <tr>\n",
       "      <th>2</th>\n",
       "      <td>Data Analyst</td>\n",
       "      <td>2.563</td>\n",
       "      <td>10591064</td>\n",
       "      <td>91</td>\n",
       "      <td>298339.831</td>\n",
       "    </tr>\n",
       "    <tr>\n",
       "      <th>3</th>\n",
       "      <td>Other</td>\n",
       "      <td>0.648</td>\n",
       "      <td>3345746</td>\n",
       "      <td>23</td>\n",
       "      <td>94246.366</td>\n",
       "    </tr>\n",
       "    <tr>\n",
       "      <th>4</th>\n",
       "      <td>Data Architect</td>\n",
       "      <td>0.254</td>\n",
       "      <td>1673513</td>\n",
       "      <td>9</td>\n",
       "      <td>47141.211</td>\n",
       "    </tr>\n",
       "    <tr>\n",
       "      <th>5</th>\n",
       "      <td>Machine Learning Scientist</td>\n",
       "      <td>0.225</td>\n",
       "      <td>1306700</td>\n",
       "      <td>8</td>\n",
       "      <td>36808.451</td>\n",
       "    </tr>\n",
       "  </tbody>\n",
       "</table>\n",
       "</div>"
      ],
      "text/plain": [
       "                        index  job_title  salary_in_usd  new     weight\n",
       "0               Data Engineer      3.211       17246726  114 485823.268\n",
       "1              Data Scientist      3.099       16975869  110 478193.493\n",
       "2                Data Analyst      2.563       10591064   91 298339.831\n",
       "3                       Other      0.648        3345746   23  94246.366\n",
       "4              Data Architect      0.254        1673513    9  47141.211\n",
       "5  Machine Learning Scientist      0.225        1306700    8  36808.451"
      ]
     },
     "execution_count": 136,
     "metadata": {},
     "output_type": "execute_result"
    }
   ],
   "source": [
    "con = con.reset_index()\n",
    "con"
   ]
  },
  {
   "cell_type": "code",
   "execution_count": 137,
   "id": "646982d8-2880-4ad7-a35d-1ab5019a290b",
   "metadata": {},
   "outputs": [],
   "source": [
    "#creating the order of value for ploting forward\n",
    "order2 = con.sort_values(by = ['weight'], ascending = False).set_index('index').round(0).index"
   ]
  },
  {
   "cell_type": "code",
   "execution_count": 138,
   "id": "ae02d8c7-198a-4d57-868a-fd19d3209a62",
   "metadata": {},
   "outputs": [
    {
     "data": {
      "image/png": "[encoded data removed]",
      "text/plain": [
       "<Figure size 1080x576 with 1 Axes>"
      ]
     },
     "metadata": {},
     "output_type": "display_data"
    }
   ],
   "source": [
    "#plotting average wages by job title\n",
    "g =plt.figure(figsize=(15,8))\n",
    "\n",
    "sns.set_style(\"white\")\n",
    "sns.barplot(x = 'weight', y = 'index', orient = 'h', palette = 'ocean', order = order2, data = con)\n",
    "sns.despine(top=True, right=True, left=False, bottom=False)\n",
    "sns.set(font_scale=2)\n",
    "plt.title('Weighted average salary of data scientists in United States per year', fontsize = 28)\n",
    "plt.xlabel('Salary in U$ Dolars', fontsize = 16)\n",
    "plt.ylabel('')\n",
    "plt.ticklabel_format(style='plain', axis='x')\n",
    "plt.show()"
   ]
  },
  {
   "cell_type": "code",
   "execution_count": 149,
   "id": "c0a23222-3533-453b-872e-452fd042a283",
   "metadata": {},
   "outputs": [],
   "source": [
    "g.savefig(\"wage_ds.png\", bbox_inches='tight') #saving chart"
   ]
  },
  {
   "cell_type": "markdown",
   "id": "ee2849df-0391-4363-bdeb-48c651fc2365",
   "metadata": {},
   "source": [
    "Now we can see that Data Architect has one of the lowest average salary, while Data Engineer has highest salary now."
   ]
  },
  {
   "cell_type": "markdown",
   "id": "35afa713-75dd-4868-b85c-73401e6f5f6c",
   "metadata": {},
   "source": [
    "# 4. Looking beyond the United States"
   ]
  },
  {
   "cell_type": "markdown",
   "id": "7bc6f8f8-301e-4fb2-a619-c704f7b29797",
   "metadata": {},
   "source": [
    "I have already analyzed that Data engineer has the highest weighted average salary, followed by Data Scientist and Data Analyst in United States. However there are another features that should be checked, such as the location company. Let's check the variation among countries. "
   ]
  },
  {
   "cell_type": "code",
   "execution_count": 140,
   "id": "7eb78dc0-badb-449f-b334-2f4bcc82728b",
   "metadata": {},
   "outputs": [
    {
     "data": {
      "text/plain": [
       "US    355\n",
       "GB     47\n",
       "CA     30\n",
       "DE     28\n",
       "IN     24\n",
       "FR     15\n",
       "ES     14\n",
       "GR     11\n",
       "JP      6\n",
       "NL      4\n",
       "AT      4\n",
       "PT      4\n",
       "PL      4\n",
       "LU      3\n",
       "PK      3\n",
       "BR      3\n",
       "AE      3\n",
       "MX      3\n",
       "AU      3\n",
       "TR      3\n",
       "DK      3\n",
       "IT      2\n",
       "CZ      2\n",
       "SI      2\n",
       "RU      2\n",
       "CH      2\n",
       "NG      2\n",
       "CN      2\n",
       "BE      2\n",
       "VN      1\n",
       "EE      1\n",
       "AS      1\n",
       "DZ      1\n",
       "MY      1\n",
       "MD      1\n",
       "KE      1\n",
       "SG      1\n",
       "CO      1\n",
       "IR      1\n",
       "CL      1\n",
       "MT      1\n",
       "IL      1\n",
       "UA      1\n",
       "IQ      1\n",
       "RO      1\n",
       "HR      1\n",
       "NZ      1\n",
       "HU      1\n",
       "HN      1\n",
       "IE      1\n",
       "Name: company_location, dtype: int64"
      ]
     },
     "execution_count": 140,
     "metadata": {},
     "output_type": "execute_result"
    }
   ],
   "source": [
    "df['company_location'].value_counts()"
   ]
  },
  {
   "cell_type": "markdown",
   "id": "cc485418-5933-4c73-8e20-8e06dad7b4cc",
   "metadata": {},
   "source": [
    "We will only take into account countries with more than 10 observations and drop the United States, due to its sample overrepresentation. "
   ]
  },
  {
   "cell_type": "code",
   "execution_count": 144,
   "id": "34682589-bece-4945-a15b-2ef6843c7ff9",
   "metadata": {},
   "outputs": [
    {
     "data": {
      "text/plain": [
       "country_names\n",
       "Canada           99823.733\n",
       "Germany          81887.214\n",
       "United Kingdom   81583.043\n",
       "France           63970.667\n",
       "Spain            53060.143\n",
       "Greece           52293.091\n",
       "India            28581.750\n",
       "Name: salary_in_usd, dtype: float64"
      ]
     },
     "execution_count": 144,
     "metadata": {},
     "output_type": "execute_result"
    }
   ],
   "source": [
    "countries = df[df['company_location'].isin(['GB', 'CA', 'DE', 'IN', 'FR', 'FR', 'ES', 'GR'])] #slicing cases with more than 10 observations\n",
    "countries['country_names'] = coco.convert(names= countries['company_location'], to='name_short') #ISO2 for country names\n",
    "countries.groupby('country_names')['salary_in_usd'].mean().sort_values(ascending = False)"
   ]
  },
  {
   "cell_type": "markdown",
   "id": "302c64b9-95f6-4977-9bc3-d1d71a780365",
   "metadata": {},
   "source": [
    "The highest average salary is in United States, with a huge difference compared to Canada. Let's check whether the remuneration between the different job titles varies among countries."
   ]
  },
  {
   "cell_type": "code",
   "execution_count": 145,
   "id": "9efd85de-82b3-4a3b-b9c7-9184dd8d6647",
   "metadata": {},
   "outputs": [
    {
     "data": {
      "text/plain": [
       "<seaborn.axisgrid.FacetGrid at 0x1454de820>"
      ]
     },
     "execution_count": 145,
     "metadata": {},
     "output_type": "execute_result"
    },
    {
     "data": {
      "image/png": "[encoded data removed]",
      "text/plain": [
       "<Figure size 1728x576 with 3 Axes>"
      ]
     },
     "metadata": {},
     "output_type": "display_data"
    }
   ],
   "source": [
    "countries2 = countries[countries['job_title'].isin(['Data Scientist', 'Data Analyst', 'Data Engineer'])]\n",
    "c = sns.FacetGrid(countries2, col=\"job_title\", height=8)\n",
    "c.map(sns.barplot, \"company_location\", \"salary_in_usd\")"
   ]
  },
  {
   "cell_type": "markdown",
   "id": "766bfd87-18e5-48c3-a473-734271423b6f",
   "metadata": {},
   "source": [
    "There is no pattern among countries. In some places, Data Analyst earn more than Data Engineer and Data Scientist (Canadá); others Data Scientist has the highest average wage (Spain) and finally there are those in which Data Engineer has the highest average wage (Great Britain). "
   ]
  },
  {
   "cell_type": "markdown",
   "id": "eaa621ba-f045-46c9-835e-a934f60870a9",
   "metadata": {},
   "source": [
    "# 5. Formulating at least 3 hypothesis test about this data."
   ]
  },
  {
   "cell_type": "markdown",
   "id": "f0083b82-864b-48b5-b195-fe5809b5e961",
   "metadata": {},
   "source": [
    "* Hypothesis 1 - Differences between Data Scientist and Data Analyst average salaries are random\n",
    "* Hypothesis 2 - Differences of average salaries for companyies with different sizes are random\n",
    "* Hypothesis 3 - Differences in salary variance between data scientists and data analysts is random"
   ]
  },
  {
   "cell_type": "markdown",
   "id": "fd23add5-acda-4252-96b5-fb81c819b7a0",
   "metadata": {},
   "source": [
    "I will focus on the first hypothesis. Data show (see chart above) that Data Analyst average wage is higher than Data Scientist in US. We will test if this difference is statistical significant. Let 𝜇1 be the average salary for Data Analyst and 𝜇2 be the average salary for Data Scientist. We will compare these mean values, $\\mu\\_{1}$ and $\\mu\\_{2}$, statistically at 5% of significance.  "
   ]
  },
  {
   "cell_type": "markdown",
   "id": "d6ae288a-a8aa-4e35-a627-5c4aaac77793",
   "metadata": {},
   "source": [
    "Null hypothesis presumes that the difference observed between averages is random. Alternative hypothesis assumes that it is systematic."
   ]
  },
  {
   "cell_type": "markdown",
   "id": "fa347bf7-3c22-409b-82c9-262d5734f0ca",
   "metadata": {},
   "source": [
    "$ 𝐻\\_{0}:\\mu\\_{1}-\\mu\\_{2} = 0 $ There is no difference between Data Analyst and Data Scientist average salaries. \\\n",
    "$ 𝐻\\_{A}:\\mu\\_{1}-\\mu\\_{2} != 0 $ There is difference between Data Analyst and Data Scientist average salaries."
   ]
  },
  {
   "cell_type": "markdown",
   "id": "757c8342-6882-4964-ab21-2e4f28970201",
   "metadata": {},
   "source": [
    "Evaluate and interpret the result\n"
   ]
  },
  {
   "cell_type": "code",
   "execution_count": 146,
   "id": "572175b9-b7bb-464b-bf0f-27186ecb02f7",
   "metadata": {},
   "outputs": [],
   "source": [
    "da = df[(df['job_title'] == 'Data Analyst') & (df['company_location'] == 'US')][['salary_in_usd']] #data analyst\n",
    "ds = df[(df['job_title'] == 'Data Scientist') & (df['company_location'] == 'US')][['salary_in_usd']] #data scientist"
   ]
  },
  {
   "cell_type": "code",
   "execution_count": 147,
   "id": "97c068c5-c75e-4c78-9c49-912604fd7ef7",
   "metadata": {},
   "outputs": [],
   "source": [
    "s_da = da.salary_in_usd\n",
    "s_ds = ds.salary_in_usd"
   ]
  },
  {
   "cell_type": "code",
   "execution_count": 148,
   "id": "cd01f589-98d8-41e6-9ae9-b2e88bff5088",
   "metadata": {},
   "outputs": [
    {
     "data": {
      "text/plain": [
       "<AxesSubplot:xlabel='salary_in_usd', ylabel='Density'>"
      ]
     },
     "execution_count": 148,
     "metadata": {},
     "output_type": "execute_result"
    },
    {
     "data": {
      "image/png": "[encoded data removed]",
      "text/plain": [
       "<Figure size 432x288 with 1 Axes>"
      ]
     },
     "metadata": {},
     "output_type": "display_data"
    }
   ],
   "source": [
    "sns.distplot(s_da,color='green',hist=False)\n",
    "sns.distplot(s_ds,color='red',hist=False)"
   ]
  },
  {
   "cell_type": "markdown",
   "id": "6e256f61-6794-4990-8afa-5e4b9bca64c6",
   "metadata": {},
   "source": [
    "From graphic, we see that the distributions are different. Let's apply test T, which is aimed at testing averages between two groups."
   ]
  },
  {
   "cell_type": "code",
   "execution_count": 346,
   "id": "1ad15c9e-fe70-4ce1-b3e3-1ce80a0b6b82",
   "metadata": {},
   "outputs": [
    {
     "name": "stdout",
     "output_type": "stream",
     "text": [
      "t_value1 =  -4.277374565975957 , p_value1 =  0.00002934917419430394625945793252164150999306002631783485412597656\n"
     ]
    }
   ],
   "source": [
    "#Applying test t for comparing the two averages\n",
    "alpha=0.05\n",
    "t_value1, p_value1 = stats.ttest_ind(s_da, s_ds)\n",
    "print(\"t_value1 = \",t_value1, \", p_value1 = \", (format(p_value1, '.65f')))"
   ]
  },
  {
   "cell_type": "code",
   "execution_count": 339,
   "id": "e5fbd97d-0391-4a87-bce2-23275ae6efb5",
   "metadata": {},
   "outputs": [
    {
     "name": "stdout",
     "output_type": "stream",
     "text": [
      "Conclusion: since p_value 2.9349174194303946e-05 is less than alpha 0.05 \n",
      "Reject the null hypothesis that there is no difference between Data Analyst and Data Scientist\n"
     ]
    }
   ],
   "source": [
    "if p_value1 <alpha:\n",
    "    print(\"Conclusion: since p_value {} is less than alpha {} \". format (p_value1,alpha))\n",
    "    print(\"Reject the null hypothesis that there is no difference between Data Analyst and Data Scientist\")\n",
    "    \n",
    "else:\n",
    "    print(\"Conclusion: since p_value {} is greater than alpha {} \". format (p_value1,alpha))\n",
    "    print(\"Fail to reject the null hypothesis that there is a difference between Data Anaçyst and Data Scientist.\")"
   ]
  },
  {
   "cell_type": "markdown",
   "id": "fdf5c1eb-6f07-4a86-b860-63d925c978af",
   "metadata": {},
   "source": [
    "The Test T indicates that the difference observed between Data Analyst and Data Scientist average salaries is not random in United States. "
   ]
  },
  {
   "cell_type": "markdown",
   "id": "0ec04f5c-925d-485a-b02b-9d0c8f13107f",
   "metadata": {},
   "source": [
    "## Suggestions for next steps in analyzing this Data"
   ]
  },
  {
   "cell_type": "markdown",
   "id": "28a33bbf-b82d-4cfa-9008-1832bc0a436c",
   "metadata": {},
   "source": [
    "The main suggestion is analyzing average salaries weighted by experience level and employment type, which can affect the results. For exemple, if most of the data scientists interviewed are at the junior level, the average salaries will be skewed downward. "
   ]
  },
  {
   "cell_type": "markdown",
   "id": "b4a4129c-036d-4ba0-8823-0d6dc8f7a85c",
   "metadata": {},
   "source": [
    "## A paragraph that summarizes the quality of this data set and a request for additional data if needed"
   ]
  },
  {
   "cell_type": "markdown",
   "id": "39c94a00-83a3-4f6c-b99d-6723219426fb",
   "metadata": {},
   "source": [
    "The quality of this data set is very good, without typos and missings. Also there is a lot of detailed information. However, there is an overrepresentation of data from United States, so it is necessary gather more data from another countries in order to set comparative analyses more reliable. "
   ]
  }
 ],
 "metadata": {
  "kernelspec": {
   "display_name": "Python 3 (ipykernel)",
   "language": "python",
   "name": "python3"
  },
  "language_info": {
   "codemirror_mode": {
    "name": "ipython",
    "version": 3
   },
   "file_extension": ".py",
   "mimetype": "text/x-python",
   "name": "python",
   "nbconvert_exporter": "python",
   "pygments_lexer": "ipython3",
   "version": "3.9.7"
  }
 },
 "nbformat": 4,
 "nbformat_minor": 5
}
